{
 "cells": [
  {
   "cell_type": "markdown",
   "metadata": {},
   "source": [
    "# ASSIGNMENT 2 - DATA TYPE"
   ]
  },
  {
   "cell_type": "markdown",
   "metadata": {},
   "source": [
    "1.\tConstruct 2 lists containing all the available data types (integer, float, string, complex and Boolean) and do the following.\n",
    "a.\tCreate another list by concatenating above 2 lists\n",
    "b.\tFind the frequency of each element in the concatenated list.\n",
    "c.\tPrint the list in reverse order.\n"
   ]
  },
  {
   "cell_type": "code",
   "execution_count": 9,
   "metadata": {},
   "outputs": [
    {
     "name": "stdout",
     "output_type": "stream",
     "text": [
      "New concatanated list:  [1, 3.5, 'Shree', (1+2j), True, 5, 2, 7, 'Parakhi', (5+7j), False]\n",
      "Freq of each element:  Counter({1: 2, 3.5: 1, 'Shree': 1, (1+2j): 1, 5: 1, 2: 1, 7: 1, 'Parakhi': 1, (5+7j): 1, False: 1})\n",
      "Reverse String:  [False, (5+7j), 'Parakhi', 7, 2, 5, True, (1+2j), 'Shree', 3.5, 1]\n"
     ]
    }
   ],
   "source": [
    "import collections\n",
    "my_list1 = [1,3.5,\"Shree\",1+2j,True]\n",
    "my_list2 = [5,2,7,\"Parakhi\",5+7j,False]\n",
    "new_list = my_list1 + my_list2\n",
    "print(\"New concatanated list: \",new_list)\n",
    "freq = collections.Counter(new_list)\n",
    "print(\"Freq of each element: \",freq)\n",
    "new_list.reverse()\n",
    "print(\"Reverse String: \",new_list)\n"
   ]
  },
  {
   "cell_type": "markdown",
   "metadata": {},
   "source": [
    "2.\tCreate 2 Sets containing integers (numbers from 1 to 10 in one set and 5 to 15 in other set)\n",
    "a.\tFind the common elements in above 2 Sets.\n",
    "b.\tFind the elements that are not common.\n",
    "c.\tRemove element 7 from both the Sets.\n"
   ]
  },
  {
   "cell_type": "code",
   "execution_count": 13,
   "metadata": {},
   "outputs": [
    {
     "name": "stdout",
     "output_type": "stream",
     "text": [
      "Common element from set1 and 2 :  {5, 6, 7, 8, 9, 10}\n",
      "Elements that are not common  :  {1, 2, 3, 4, 11, 12, 13, 14, 15}\n",
      "{1, 2, 3, 4, 5, 6, 8, 9, 10}\n",
      "{5, 6, 8, 9, 10, 11, 12, 13, 14, 15}\n"
     ]
    }
   ],
   "source": [
    "my_set1 = {1,2,3,4,5,6,7,8,9,10}\n",
    "my_set2 = {5,6,7,8,9,10,11,12,13,14,15}\n",
    "print(\"Common element from set1 and 2 : \",my_set1 & my_set2)\n",
    "print(\"Elements that are not common  : \",my_set1 ^ my_set2)\n",
    "my_set1.remove(7)\n",
    "my_set2.remove(7)\n",
    "print(my_set1)\n",
    "print(my_set2)"
   ]
  },
  {
   "cell_type": "markdown",
   "metadata": {},
   "source": [
    "3.\tCreate a data dictionary of 5 states having state name as key and number of covid-19 cases as values.\n",
    "a.\tPrint only state names from the dictionary.\n",
    "b.\tUpdate another country and it’s covid-19 cases in the dictionary.\n"
   ]
  },
  {
   "cell_type": "code",
   "execution_count": 22,
   "metadata": {},
   "outputs": [
    {
     "name": "stdout",
     "output_type": "stream",
     "text": [
      "State Names:  ['Maharashtra', 'Karnataka', 'UP', 'Kerala', 'Sikkim']\n",
      "Updated Covid Dict:  {'Maharashtra': 350000, 'Karnataka': 100000, 'UP': 200000, 'Kerala': 250000, 'Sikkim': 20000, 'Rajsthan': 240000}\n"
     ]
    }
   ],
   "source": [
    "COVID = {'Maharashtra': 350000,'Karnataka': 100000,'UP': 200000,'Kerala':250000,'Sikkim':20000}\n",
    "print(\"State Names: \",list(COVID.keys()))\n",
    "COVID['Rajsthan'] = 240000\n",
    "print(\"Updated Covid Dict: \",COVID)"
   ]
  },
  {
   "cell_type": "markdown",
   "metadata": {},
   "source": [
    "# ASSIGNMENT 3 - OPERATORES"
   ]
  },
  {
   "cell_type": "markdown",
   "metadata": {},
   "source": [
    "A. Write an equation which relates   399, 543 and 12345.\n",
    "\n",
    "\n",
    "B.  “When I divide 5 with 3, I got 1. But when I divide -5 with 3, I got -2”—How would you justify it.\n"
   ]
  },
  {
   "cell_type": "code",
   "execution_count": 6,
   "metadata": {},
   "outputs": [
    {
     "name": "stdout",
     "output_type": "stream",
     "text": [
      "1.6666666666666667 -2\n"
     ]
    }
   ],
   "source": [
    "res1= 5/3\n",
    "res2=-5/3\n",
    "res2=round(res2)\n",
    "print(res1, res2)\n"
   ]
  },
  {
   "cell_type": "markdown",
   "metadata": {},
   "source": [
    "2.  a=5,b=3,c=10.. What will be the output of the following:\n",
    "              A. a/=b\n",
    "              B. c*=5  \n"
   ]
  },
  {
   "cell_type": "code",
   "execution_count": 25,
   "metadata": {},
   "outputs": [
    {
     "name": "stdout",
     "output_type": "stream",
     "text": [
      "1.6666666666666667\n",
      "50\n"
     ]
    }
   ],
   "source": [
    "a=5\n",
    "b=3\n",
    "c=10\n",
    "a/=b\n",
    "c*=5\n",
    "print(a)\n",
    "print(c)"
   ]
  },
  {
   "cell_type": "markdown",
   "metadata": {},
   "source": [
    "       3. A. How can you print a number between 55 and 75.\n",
    "            B. How can you print a number which is either below 55 or above 75.\n"
   ]
  },
  {
   "cell_type": "code",
   "execution_count": 32,
   "metadata": {},
   "outputs": [
    {
     "name": "stdout",
     "output_type": "stream",
     "text": [
      "57\n",
      "0.7100965916648565\n"
     ]
    }
   ],
   "source": [
    "import random\n",
    "rand_int = random.randint(55,75)\n",
    "print(rand_int)\n",
    "\n",
    "def my_custom_random():\n",
    "    exclude=list(range(55,76))\n",
    "    randInt = random.random()\n",
    "    return my_custom_random() if randInt in exclude else randInt \n",
    "\n",
    "print(my_custom_random())"
   ]
  },
  {
   "cell_type": "markdown",
   "metadata": {},
   "source": [
    "# ASSIGNMET 4 Variables and Exception Handling"
   ]
  },
  {
   "cell_type": "raw",
   "metadata": {},
   "source": [
    "1.\tWhat will be the output of the following (can/cannot)?\n",
    "a.\tAge1=5  => 5 will be assigned to Age1\n",
    "b.\t5age=55  => Sntax error\n",
    "c.\tAge_1=100  => 100 will be assigned to Age_1\n",
    "d.\tage@1=100  => Syntax error\n"
   ]
  },
  {
   "cell_type": "raw",
   "metadata": {},
   "source": [
    "2.\t\n",
    "a.\tWhat are the blocks used in exception handling?\n",
    "=> try escept block used in exception handling\n",
    "b.\tModule that deals with Exception handling in Python?\n",
    "=> sys module delas with exception handling.It will give you type of exception.\n"
   ]
  },
  {
   "cell_type": "markdown",
   "metadata": {},
   "source": [
    "3.\tUsing Exception handling, write a program to find a reciprocal of the number in a such a way that.\n",
    "a.\tIf reciprocal exists, it should print reciprocal of that number (take any integer) \n",
    "b.\tIf reciprocal does not exist, it should print “reciprocal cannot be found” along with the type of error. (take 0).\n"
   ]
  },
  {
   "cell_type": "code",
   "execution_count": 8,
   "metadata": {},
   "outputs": [
    {
     "name": "stdout",
     "output_type": "stream",
     "text": [
      "Enter an integer: 0\n",
      "ZeroDivisionError : Reciprocal cannot be found\n"
     ]
    }
   ],
   "source": [
    "try:\n",
    "    num = int(input(\"Enter an integer: \"))\n",
    "    if (num == 0):\n",
    "        raise ZeroDivisionError\n",
    "    else:\n",
    "        print(\"Reciprocal : \",1/num)\n",
    "except ZeroDivisionError:\n",
    "    print(\"ZeroDivisionError : Reciprocal cannot be found\")\n",
    "    "
   ]
  },
  {
   "cell_type": "markdown",
   "metadata": {},
   "source": [
    "# ASSIGNMENT-5 Conditional Statements and Keywords "
   ]
  },
  {
   "cell_type": "markdown",
   "metadata": {},
   "source": [
    "1.\t Take a variable age which is of positive value and check the following:\n",
    "a.\tIf age is less than 10, print “Children”.\n",
    "b.\tIf age is more than 60, print ‘senior citizens’\n",
    "c.\t If it is in between 10 and 60, print ‘normal citizen’\n"
   ]
  },
  {
   "cell_type": "code",
   "execution_count": 12,
   "metadata": {},
   "outputs": [
    {
     "name": "stdout",
     "output_type": "stream",
     "text": [
      "Enter age: 69\n",
      "Senior\n"
     ]
    }
   ],
   "source": [
    "age = int(input(\"Enter age: \"))\n",
    "if (age < 10):\n",
    "    print(\"Children\")\n",
    "elif (age > 60):\n",
    "    print(\"Senior\")\n",
    "elif ((age >=10) & (age <= 60) ):\n",
    "    print(\"Normal Citizen\")"
   ]
  },
  {
   "cell_type": "markdown",
   "metadata": {},
   "source": [
    "\n",
    "2.\tFind the final train ticket price with the following conditions. \n",
    "a.\tIf male and senior citizen, 70% of fare is applicable\n",
    "b.\tIf female and senior citizen, 50% of fare is applicable.\n",
    "c.\tIf female and normal citizen, 70% of fare is applicable\n",
    "d.\tIf male and normal citizen, 100% of fare is applicable\n",
    "[Hint: First check for the gender, then calculate the fare based on age factor. For both Male and Female, consider them as senior citizens if their age >=60]\n"
   ]
  },
  {
   "cell_type": "code",
   "execution_count": 14,
   "metadata": {},
   "outputs": [
    {
     "name": "stdout",
     "output_type": "stream",
     "text": [
      "Enter gender (M/F): F\n",
      "Enter age: 59\n",
      "70% fare will be applicable\n"
     ]
    }
   ],
   "source": [
    "gender = str(input(\"Enter gender (M/F): \"))\n",
    "age = int(input(\"Enter age: \"))\n",
    "if ((gender == 'M') & (age >= 60)):\n",
    "    print(\"70% fare will be applicable\")\n",
    "elif ((gender == 'F') & (age >= 60)):\n",
    "    print(\"50% fare will be applicable\")\n",
    "elif ((gender == 'F') & (age < 60)):\n",
    "    print(\"70% fare will be applicable\")\n",
    "elif ((gender == 'M') & (age < 60)):\n",
    "    print(\"100% fare will be applicable\")"
   ]
  },
  {
   "cell_type": "markdown",
   "metadata": {},
   "source": [
    "\n",
    "3.\tCheck whether the given number is positive and divisible by 5 or not.  \n"
   ]
  },
  {
   "cell_type": "code",
   "execution_count": 22,
   "metadata": {},
   "outputs": [
    {
     "name": "stdout",
     "output_type": "stream",
     "text": [
      "Enter a number: 65\n",
      "number 65  is positive\n",
      "65  is divisible by 5\n"
     ]
    }
   ],
   "source": [
    "num = int(input(\"Enter a number: \"))\n",
    "if (num > 0):\n",
    "    print(\"number\",num,\" is positive\")\n",
    "if (num%5 == 0):\n",
    "    print(num,\" is divisible by 5\")\n",
    "else:\n",
    "    print(num,\" is not divisible by 5\")"
   ]
  },
  {
   "cell_type": "markdown",
   "metadata": {},
   "source": [
    "# ASSIGNMENT 6 Functions"
   ]
  },
  {
   "cell_type": "markdown",
   "metadata": {},
   "source": [
    "1.\tA) Find the magnitude of (3+5j)\n",
    "B) list1 = [1,5.5, (10+20j),’data science’].. Print default functions and parameters exists in list1.\n",
    "C) How do we create a sequence of numbers in Python.\n",
    "D)  Read the input from keyboard and print a sequence of numbers up to that number.\n"
   ]
  },
  {
   "cell_type": "code",
   "execution_count": 2,
   "metadata": {},
   "outputs": [
    {
     "name": "stdout",
     "output_type": "stream",
     "text": [
      "Magnitude of 3+5j is :  5.830951894845301\n",
      "Enter a number: 6\n",
      "0\n",
      "1\n",
      "2\n",
      "3\n",
      "4\n",
      "5\n"
     ]
    }
   ],
   "source": [
    "print(\"Magnitude of 3+5j is : \",abs(3+5j))\n",
    "#we can create sequence of numbers in python by using range()\n",
    "inp = int(input(\"Enter a number: \"))\n",
    "x= range(0,inp)\n",
    "for item in x:\n",
    "    print(item)"
   ]
  },
  {
   "cell_type": "markdown",
   "metadata": {},
   "source": [
    "       2. Write a simple user defined function that greets a person in such a way that:\n",
    "             i) It should accept both name of person and message you want to deliver.\n",
    "              ii) If no message is provided, it should greet a default message ‘How are you’\n",
    "           Ex: Hello ---xxxx---, How are you - default message.\n",
    "            Ex: Hello ---xxxx---, --xx your message xx---\n"
   ]
  },
  {
   "cell_type": "code",
   "execution_count": 10,
   "metadata": {},
   "outputs": [
    {
     "name": "stdout",
     "output_type": "stream",
     "text": [
      "Enter your Name: shree\n",
      "Enter message you want to display: Good Morning\n",
      "Hello shree Good Morning\n"
     ]
    }
   ],
   "source": [
    "def greetingFunction(inp_name,inp_msg):\n",
    "    #do something\n",
    "    if (len(inp_msg) == 0):\n",
    "        print(\"Hello \"+inp_name+\" How are you\")\n",
    "    else:\n",
    "        print(\"Hello \"+inp_name+\" \"+inp_msg)\n",
    "\n",
    "if __name__ == '__main__':\n",
    "    inp_name = str(input(\"Enter your Name: \"))\n",
    "    inp_msg = str(input(\"Enter message you want to display: \"))\n",
    "    greetingFunction(inp_name,inp_msg)"
   ]
  },
  {
   "cell_type": "markdown",
   "metadata": {},
   "source": [
    "    3.By using a filter function, find positive number present in a list.\n",
    "         Lsit1= [2, 6, -5, 4, -8, -9, 10, 1]\n"
   ]
  },
  {
   "cell_type": "code",
   "execution_count": 11,
   "metadata": {},
   "outputs": [
    {
     "name": "stdout",
     "output_type": "stream",
     "text": [
      "Positive numbers in list are: \n",
      "\n",
      "2\n",
      "6\n",
      "10\n",
      "1\n"
     ]
    }
   ],
   "source": [
    "def filterFunction(list1):\n",
    "    #do something\n",
    "    print(\"Positive numbers in list are: \\n\")\n",
    "    for item in list1:\n",
    "        if item > 0 :\n",
    "            print(item)\n",
    "\n",
    "if __name__ == '__main__':\n",
    "    list1 = [2,6,-5,-8,-9,10,1]\n",
    "    filterFunction(list1)"
   ]
  },
  {
   "cell_type": "markdown",
   "metadata": {},
   "source": [
    "# ASSIGNMENT 7- LOOPS"
   ]
  },
  {
   "cell_type": "markdown",
   "metadata": {},
   "source": [
    "1.\tPrint the Palindromes (reverse of the number is itself) that are present in between 100 and 250. (Ex: 121,131,212,222... etc.)"
   ]
  },
  {
   "cell_type": "code",
   "execution_count": 27,
   "metadata": {},
   "outputs": [
    {
     "name": "stdout",
     "output_type": "stream",
     "text": [
      "101\n",
      "111\n",
      "121\n",
      "131\n",
      "141\n",
      "151\n",
      "161\n",
      "171\n",
      "181\n",
      "191\n",
      "202\n",
      "212\n",
      "222\n",
      "232\n",
      "242\n"
     ]
    }
   ],
   "source": [
    "inp_num = range(100,251)\n",
    "#print(inp_num)\n",
    "for num in inp_num:\n",
    "    temp_num = num\n",
    "    rev_num = 0\n",
    "    #print(\"num:\",num)\n",
    "    while(num > 0):\n",
    "        temp = num%10\n",
    "        rev_num = rev_num*10 + temp\n",
    "        num = num // 10\n",
    "    #print(rev_num)\n",
    "    if (temp_num == rev_num):\n",
    "        print(rev_num)\n",
    "    \n",
    "\n",
    "    "
   ]
  },
  {
   "cell_type": "markdown",
   "metadata": {},
   "source": [
    "2.\t Consider a list1 [3,4,5,6,7,8]. Create a new list2 such that Add 10 to the even number and multiply with 5 if it is odd number in the list1."
   ]
  },
  {
   "cell_type": "code",
   "execution_count": 29,
   "metadata": {},
   "outputs": [
    {
     "name": "stdout",
     "output_type": "stream",
     "text": [
      "New List:  [15, 14, 25, 16, 35, 18]\n"
     ]
    }
   ],
   "source": [
    "list1 = [3,4,5,6,7,8]\n",
    "list2 =[]\n",
    "for item in list1:\n",
    "    if item%2 == 0:\n",
    "        num = item + 10\n",
    "        list2.append(num)\n",
    "    else:\n",
    "        num = item * 5\n",
    "        list2.append(num)\n",
    "print(\"New List: \",list2)"
   ]
  },
  {
   "cell_type": "raw",
   "metadata": {},
   "source": [
    "3.\tConsider a list [2,3,4,5,6]. Find the total sum of cumulative products of all the numbers in the list. (sum= 2*3 + 2*3*4 +....)"
   ]
  },
  {
   "cell_type": "code",
   "execution_count": 30,
   "metadata": {},
   "outputs": [
    {
     "name": "stdout",
     "output_type": "stream",
     "text": [
      "872\n"
     ]
    }
   ],
   "source": [
    "list1 = [2,3,4,5,6]\n",
    "res = 1\n",
    "sum = 0\n",
    "for item in list1:\n",
    "    res = res * item\n",
    "    sum = sum + res\n",
    "print(sum)"
   ]
  },
  {
   "cell_type": "markdown",
   "metadata": {},
   "source": [
    "# ASSIGNMENT 8 - PACKAGES"
   ]
  },
  {
   "cell_type": "raw",
   "metadata": {},
   "source": [
    "1.\tWrite a function that eliminates all the punctuation symbols, html tags, etc. in the given text. It should return plain text containing alpha numeric characters.\n",
    "Text=”NumPy, <hl> pandas ?, matplotlib;  re, seaborn# SciPy* etc.. are few & Python packages) that are used) frequently (/re package | will be used @ for text% preprocessing$.”\n"
   ]
  },
  {
   "cell_type": "code",
   "execution_count": 31,
   "metadata": {},
   "outputs": [
    {
     "name": "stdout",
     "output_type": "stream",
     "text": [
      "NumPyhlpandasmatplotlibreseabornSciPyetcarefewPythonpackagesthatareusedfrequentlyrepackagewillbeusedfortextpreprocessing\n"
     ]
    }
   ],
   "source": [
    "Text = \"NumPy, <hl> pandas ?, matplotlib;  re, seaborn# SciPy* etc.. are few & Python packages) that are used) frequently (/re package | will be used @ for text% preprocessing$.\"\n",
    "out_text =\"\"\n",
    "for char in Text:\n",
    "    if char.isalnum():\n",
    "        out_text += char\n",
    "print(out_text)\n",
    "    "
   ]
  },
  {
   "cell_type": "markdown",
   "metadata": {},
   "source": [
    "2.\tFor the dataset “Indian_cities”, \n",
    "a)\tFind out top 10 states in female-male sex ratio\n",
    "b)\tFind out top 10 cities in total number of graduates\n",
    "c)\tFind out top 10 cities and their locations in respect of total effective_literacy_rate.\n"
   ]
  },
  {
   "cell_type": "code",
   "execution_count": 36,
   "metadata": {},
   "outputs": [
    {
     "name": "stdout",
     "output_type": "stream",
     "text": [
      "{'CHHATTISGARH', 'GUJARAT', 'ANDHRA PRADESH', 'MEGHALAYA', 'ASSAM', 'UTTAR PRADESH', 'RAJASTHAN', 'CHANDIGARH', 'NAGALAND', 'UTTARAKHAND', 'JHARKHAND', 'KERALA', 'HARYANA', 'NCT OF DELHI', 'KARNATAKA', 'HIMACHAL PRADESH', 'PUDUCHERRY', 'ANDAMAN & NICOBAR ISLANDS', 'BIHAR', 'TAMIL NADU', 'PUNJAB', 'MANIPUR ', 'MAHARASHTRA', 'ORISSA', 'MIZORAM', 'TRIPURA', 'WEST BENGAL', 'MADHYA PRADESH', 'JAMMU & KASHMIR'}\n"
     ]
    },
    {
     "data": {
      "text/html": [
       "<div>\n",
       "<style scoped>\n",
       "    .dataframe tbody tr th:only-of-type {\n",
       "        vertical-align: middle;\n",
       "    }\n",
       "\n",
       "    .dataframe tbody tr th {\n",
       "        vertical-align: top;\n",
       "    }\n",
       "\n",
       "    .dataframe thead th {\n",
       "        text-align: right;\n",
       "    }\n",
       "</style>\n",
       "<table border=\"1\" class=\"dataframe\">\n",
       "  <thead>\n",
       "    <tr style=\"text-align: right;\">\n",
       "      <th></th>\n",
       "      <th>name_of_city</th>\n",
       "      <th>location</th>\n",
       "    </tr>\n",
       "  </thead>\n",
       "  <tbody>\n",
       "    <tr>\n",
       "      <td>9</td>\n",
       "      <td>Aizawl</td>\n",
       "      <td>23.727107,92.7176389</td>\n",
       "    </tr>\n",
       "    <tr>\n",
       "      <td>271</td>\n",
       "      <td>Kochi</td>\n",
       "      <td>9.9312328,76.2673041</td>\n",
       "    </tr>\n",
       "    <tr>\n",
       "      <td>461</td>\n",
       "      <td>Thrissur</td>\n",
       "      <td>10.5276416,76.2144349</td>\n",
       "    </tr>\n",
       "    <tr>\n",
       "      <td>278</td>\n",
       "      <td>Kozhikode</td>\n",
       "      <td>11.2587531,75.78041</td>\n",
       "    </tr>\n",
       "    <tr>\n",
       "      <td>14</td>\n",
       "      <td>Alappuzha</td>\n",
       "      <td>9.4980667,76.3388484</td>\n",
       "    </tr>\n",
       "    <tr>\n",
       "      <td>264</td>\n",
       "      <td>Khardaha</td>\n",
       "      <td>22.7002943,88.3753455</td>\n",
       "    </tr>\n",
       "    <tr>\n",
       "      <td>333</td>\n",
       "      <td>Nagercoil</td>\n",
       "      <td>8.1832857,77.4118996</td>\n",
       "    </tr>\n",
       "    <tr>\n",
       "      <td>13</td>\n",
       "      <td>Alandur</td>\n",
       "      <td>12.9974873,80.2006371</td>\n",
       "    </tr>\n",
       "    <tr>\n",
       "      <td>352</td>\n",
       "      <td>North Barrackpur</td>\n",
       "      <td>22.7902358,88.367179</td>\n",
       "    </tr>\n",
       "    <tr>\n",
       "      <td>431</td>\n",
       "      <td>Shimla</td>\n",
       "      <td>31.1048145,77.1734033</td>\n",
       "    </tr>\n",
       "  </tbody>\n",
       "</table>\n",
       "</div>"
      ],
      "text/plain": [
       "          name_of_city               location\n",
       "9              Aizawl    23.727107,92.7176389\n",
       "271             Kochi    9.9312328,76.2673041\n",
       "461          Thrissur   10.5276416,76.2144349\n",
       "278         Kozhikode     11.2587531,75.78041\n",
       "14          Alappuzha    9.4980667,76.3388484\n",
       "264          Khardaha   22.7002943,88.3753455\n",
       "333         Nagercoil    8.1832857,77.4118996\n",
       "13            Alandur   12.9974873,80.2006371\n",
       "352  North Barrackpur    22.7902358,88.367179\n",
       "431            Shimla   31.1048145,77.1734033"
      ]
     },
     "execution_count": 36,
     "metadata": {},
     "output_type": "execute_result"
    }
   ],
   "source": [
    "import pandas as pd\n",
    "import numpy as np\n",
    "import csv\n",
    "cities_df = pd.read_csv(r'D:\\DS\\DataSet\\Indian_cities.csv')\n",
    "\n",
    "#top_sex_ratio = cities_df.sort_values('sex_ratio',ascending = False)['state_name']\n",
    "#print(set(top_sex_ratio))\n",
    "top_sex_ratio = cities_df.\n",
    "\n",
    "top_graduate=cities_df.sort_values('total_graduates',ascending = False)['name_of_city'].head(10)\n",
    "#print(top_graduate)\n",
    "\n",
    "total_literacy_rate = cities_df.sort_values('effective_literacy_rate_total',ascending = False)[['name_of_city','location']].head(10)\n",
    "total_literacy_rate"
   ]
  },
  {
   "cell_type": "markdown",
   "metadata": {},
   "source": [
    "3.\tFor the data set “Indian_cities”\n",
    "a)\tConstruct histogram on literates_total and comment about the inferences\n",
    "b)\tConstruct scatter plot between male graduates and female graduates\n"
   ]
  },
  {
   "cell_type": "code",
   "execution_count": 52,
   "metadata": {},
   "outputs": [
    {
     "data": {
      "image/png": "[encoded data removed]",
      "text/plain": [
       "<Figure size 432x288 with 1 Axes>"
      ]
     },
     "metadata": {
      "needs_background": "light"
     },
     "output_type": "display_data"
    },
    {
     "data": {
      "image/png": "[encoded data removed]",
      "text/plain": [
       "<Figure size 432x288 with 1 Axes>"
      ]
     },
     "metadata": {
      "needs_background": "light"
     },
     "output_type": "display_data"
    }
   ],
   "source": [
    "import pandas as pd\n",
    "import matplotlib.pyplot as plt\n",
    "import numpy as np\n",
    "import csv\n",
    "cities_df = pd.read_csv(r'D:\\DS\\DataSet\\Indian_cities.csv')\n",
    "pt = plt.hist(cities_df['literates_total'])\n",
    "plt.show(pt)\n",
    "m_g = np.array(cities_df['male_graduates'])\n",
    "f_g = np.array(cities_df['female_graduates'])\n",
    "pt_2 = plt.scatter(m_g,f_g)\n",
    "plt.show(pt_2)"
   ]
  },
  {
   "cell_type": "markdown",
   "metadata": {},
   "source": [
    "# ASSIGNMENT -9 OOPS Concepts"
   ]
  },
  {
   "cell_type": "markdown",
   "metadata": {},
   "source": [
    "1.\tConstruct a class which takes in 3 arguments—first name, last name and age. And create an instance of that class."
   ]
  },
  {
   "cell_type": "code",
   "execution_count": 1,
   "metadata": {},
   "outputs": [
    {
     "name": "stdout",
     "output_type": "stream",
     "text": [
      "Shreepad\n",
      "Parakhi\n",
      "24\n"
     ]
    }
   ],
   "source": [
    "class Person():\n",
    "    def __init__(self,first_name,last_name,age):\n",
    "        self.first_name=first_name\n",
    "        self.last_name=last_name\n",
    "        self.age=age\n",
    "        \n",
    "details=Person('Shreepad','Parakhi', '24')\n",
    "print(details.first_name)\n",
    "print(details.last_name)\n",
    "print(details.age)\n"
   ]
  },
  {
   "cell_type": "markdown",
   "metadata": {},
   "source": [
    "2.\tConstruct an example for Inheritance."
   ]
  },
  {
   "cell_type": "code",
   "execution_count": 2,
   "metadata": {},
   "outputs": [
    {
     "name": "stdout",
     "output_type": "stream",
     "text": [
      "Shreepad\n",
      "Premchand\n"
     ]
    }
   ],
   "source": [
    "class PersonDetails():\n",
    "    def __init__(self,first_name,last_name,age):\n",
    "        self.first_name=first_name\n",
    "        self.last_name=last_name\n",
    "        self.age=age\n",
    "    \n",
    "    def get_name(self):\n",
    "        return self.first_name\n",
    "    \n",
    "    def get_Age(self):\n",
    "        return self.age\n",
    "    \n",
    "class City(PersonDetails):\n",
    "    def __init_(self,city_name):\n",
    "        self.city_name=city_name\n",
    "        \n",
    " \n",
    "person_Details =PersonDetails('Shreepad','Parakhi', '25')\n",
    "home=City('Premchand','Parakhi','Satara',)\n",
    "print(person_Details.first_name)\n",
    "print(home.first_name)\n"
   ]
  },
  {
   "cell_type": "markdown",
   "metadata": {},
   "source": [
    "3.\tExplain Polymorphism in Python? Construct an example for Polymorphism."
   ]
  },
  {
   "cell_type": "code",
   "execution_count": 3,
   "metadata": {},
   "outputs": [
    {
     "name": "stdout",
     "output_type": "stream",
     "text": [
      "\n",
      "Not possible to play on wet ground\n",
      "\n",
      "It is very popular sport in INDIA\n",
      "\n",
      "Possible to play on wet ground\n",
      "\n",
      "It is very popular in european countrys\n"
     ]
    }
   ],
   "source": [
    "class Cricket():\n",
    "    def type(self):\n",
    "        print('\\n Cricket is a outdoor sport')\n",
    "    def season(self):\n",
    "        print('\\nNot possible to play on wet ground')\n",
    "    def popular(self):\n",
    "        print('\\nIt is very popular sport in INDIA')\n",
    "        \n",
    "class Football():\n",
    "    def type(self):\n",
    "        print('\\n football is also a outdoor sport')\n",
    "    def season(self):\n",
    "        print('\\nPossible to play on wet ground')\n",
    "    def popular(self):\n",
    "        print('\\nIt is very popular in european countrys')\n",
    "        \n",
    "obj_1=Cricket()\n",
    "obj_2=Football()\n",
    "obj_1.season()\n",
    "obj_1.popular()\n",
    "obj_2.season()\n",
    "obj_2.popular()\n"
   ]
  },
  {
   "cell_type": "code",
   "execution_count": null,
   "metadata": {},
   "outputs": [],
   "source": []
  }
 ],
 "metadata": {
  "kernelspec": {
   "display_name": "Python 3",
   "language": "python",
   "name": "python3"
  },
  "language_info": {
   "codemirror_mode": {
    "name": "ipython",
    "version": 3
   },
   "file_extension": ".py",
   "mimetype": "text/x-python",
   "name": "python",
   "nbconvert_exporter": "python",
   "pygments_lexer": "ipython3",
   "version": "3.7.4"
  }
 },
 "nbformat": 4,
 "nbformat_minor": 2
}
